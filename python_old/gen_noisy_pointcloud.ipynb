{
 "cells": [
  {
   "cell_type": "code",
   "execution_count": 1,
   "metadata": {
    "collapsed": true
   },
   "outputs": [],
   "source": [
    "#from atmos_models import LISA\n",
    "import open3d as o3d\n",
    "# import struct\n",
    "import numpy as np\n",
    "import os"
   ]
  },
  {
   "cell_type": "code",
   "execution_count": 2,
   "metadata": {},
   "outputs": [],
   "source": [
    "from tqdm.notebook import tqdm as tqdm_nb\n"
   ]
  },
  {
   "cell_type": "code",
   "execution_count": 3,
   "metadata": {
    "collapsed": true
   },
   "outputs": [],
   "source": [
    "bin_path ='/home-local2/vikon4.extra.nobkp/mmdetection3d/data/kitti/training/velodyne'\n",
    "fname =  '000015.bin'"
   ]
  },
  {
   "cell_type": "code",
   "execution_count": 4,
   "metadata": {},
   "outputs": [],
   "source": [
    "raw_lidar = np.fromfile(os.path.join(bin_path, fname), dtype=np.float32).reshape((-1, 4))\n",
    "this_pcd = o3d.geometry.PointCloud()\n",
    "this_pcd.points = o3d.utility.Vector3dVector(raw_lidar[:,:3])\n",
    "# this_pcd.colors = this_pcd.points  \n",
    "#o3d.io.write_point_cloud(os.path.join(, some_pcd)\n"
   ]
  },
  {
   "cell_type": "code",
   "execution_count": 5,
   "metadata": {},
   "outputs": [],
   "source": [
    "def bin_to_pcd(raw_lidar):\n",
    "    this_pcd = o3d.geometry.PointCloud()\n",
    "    this_pcd.points = o3d.utility.Vector3dVector(raw_lidar[:,:3])\n",
    "    return this_pcd"
   ]
  },
  {
   "cell_type": "code",
   "execution_count": 6,
   "metadata": {
    "collapsed": true
   },
   "outputs": [],
   "source": [
    "def draw_pcd(pcd, where='mat_3d'):\n",
    "    if where == 'opn_nb':\n",
    "        visualizer = o3d.JVisualizer()\n",
    "        visualizer.add_geometry(pcd)\n",
    "        visualizer.show()\n",
    "    elif where == 'opn_view':\n",
    "        web_visualizer.draw([pcd])\n",
    "    elif where == 'mat_3d':\n",
    "        plt.figure()\n",
    "        pts = np.asarray(pcd.points)\n",
    "        plt.scatter(pts[:,0], pts[:,1], pts[:,2])\n",
    "        plt.grid()\n",
    "        plt.show()\n",
    "    elif where == 'mat_2d':\n",
    "        plt.figure()\n",
    "        pts = np.asarray(pcd.points)\n",
    "        plt.scatter(pts[:,0], pts[:,1])\n",
    "        plt.grid()\n",
    "        plt.show()"
   ]
  },
  {
   "cell_type": "code",
   "execution_count": 7,
   "metadata": {},
   "outputs": [
    {
     "data": {
      "application/vnd.jupyter.widget-view+json": {
       "model_id": "101783e93a734bd48e129a65b18e130e",
       "version_major": 2,
       "version_minor": 0
      },
      "text/plain": [
       "A Jupyter Widget"
      ]
     },
     "metadata": {},
     "output_type": "display_data"
    }
   ],
   "source": [
    "draw_pcd(this_pcd, \"opn_nb\")"
   ]
  },
  {
   "cell_type": "code",
   "execution_count": 8,
   "metadata": {},
   "outputs": [],
   "source": [
    "from atmos_models import LISA #install PyMIeScatt using conda"
   ]
  },
  {
   "cell_type": "code",
   "execution_count": 9,
   "metadata": {
    "collapsed": true
   },
   "outputs": [],
   "source": [
    "lisa = LISA(atm_model='rain')"
   ]
  },
  {
   "cell_type": "markdown",
   "metadata": {},
   "source": [
    "'''\n",
    "        Augment clean pointcloud for a given rain rate\n",
    "        Parameters\n",
    "        ----------\n",
    "        pc : pointcloud (N,4) -> x,y,z,reflectivity\n",
    "        Rr : rain rate (mm/hr)\n",
    "        Returns\n",
    "        -------\n",
    "        pc_new : new noisy point cloud (N,5) -> x,y,z,reflectivity,label\n",
    "                        label 0 -> lost point\n",
    "                        label 1 -> randomly scattered point\n",
    "                        label 2 -> not-scattered \n",
    "'''"
   ]
  },
  {
   "cell_type": "code",
   "execution_count": 10,
   "metadata": {},
   "outputs": [],
   "source": [
    "def add_noisy_weather_color(noisy_pcd, raw_data):\n",
    "    \"\"\"the color code expects input of shape [-1,5]. \n",
    "    The output of LISA simulation \"\"\"\n",
    "\n",
    "    color = np.zeros(shape=np.asarray(noisy_pcd.points).shape)\n",
    "    random_scatter_idx = np.where(raw_data[:,4] == 1) #randonmly scattered points\n",
    "    lost_point_idx  = np.where(raw_data[:,4] == 0) #lost points \n",
    "\n",
    "    color[random_scatter_idx, 1] = 1 # 0, 1, 0\n",
    "    color[lost_point_idx, 0]     = 1 # 1, 0, 0\n",
    "\n",
    "    noisy_pcd.colors =  o3d.utility.Vector3dVector(color)\n",
    "    return noisy_pcd"
   ]
  },
  {
   "cell_type": "code",
   "execution_count": 11,
   "metadata": {},
   "outputs": [],
   "source": [
    "data_sim  = lisa.augment(raw_lidar,55) #snow_rate_75mm/hr\n"
   ]
  },
  {
   "cell_type": "code",
   "execution_count": 12,
   "metadata": {},
   "outputs": [],
   "source": [
    "noisy_pcd = bin_to_pcd(data_sim)"
   ]
  },
  {
   "cell_type": "code",
   "execution_count": 13,
   "metadata": {},
   "outputs": [],
   "source": [
    "noisy_pcd = add_noisy_weather_color(noisy_pcd, data_sim)"
   ]
  },
  {
   "cell_type": "code",
   "execution_count": 14,
   "metadata": {},
   "outputs": [
    {
     "data": {
      "application/vnd.jupyter.widget-view+json": {
       "model_id": "89b4f64b811a48d39fef93bcce0c39a1",
       "version_major": 2,
       "version_minor": 0
      },
      "text/plain": [
       "A Jupyter Widget"
      ]
     },
     "metadata": {},
     "output_type": "display_data"
    }
   ],
   "source": [
    "lisa = LISA(atm_model='snow')\n",
    "data_sim  = lisa.augment(raw_lidar,55) #snow_rate_75mm/hr\n",
    "noisy_pcd = bin_to_pcd(data_sim)\n",
    "noisy_pcd = add_noisy_weather_color(noisy_pcd, data_sim)\n",
    "draw_pcd(noisy_pcd, \"opn_nb\")"
   ]
  },
  {
   "cell_type": "code",
   "execution_count": 15,
   "metadata": {},
   "outputs": [
    {
     "data": {
      "application/vnd.jupyter.widget-view+json": {
       "model_id": "07cd98f9188646c48dbf2b1c1e250f1b",
       "version_major": 2,
       "version_minor": 0
      },
      "text/plain": [
       "A Jupyter Widget"
      ]
     },
     "metadata": {},
     "output_type": "display_data"
    }
   ],
   "source": [
    "lisa = LISA(atm_model='snow')\n",
    "data_sim  = lisa.augment(raw_lidar,150) #snow_rate_75mm/hr\n",
    "noisy_pcd = bin_to_pcd(data_sim)\n",
    "noisy_pcd = add_noisy_weather_color(noisy_pcd, data_sim)\n",
    "draw_pcd(noisy_pcd, \"opn_nb\")"
   ]
  }
 ],
 "metadata": {
  "kernelspec": {
   "display_name": "Python 3.6.3 ('open3d_ty')",
   "language": "python",
   "name": "python3"
  },
  "language_info": {
   "codemirror_mode": {
    "name": "ipython",
    "version": 3
   },
   "file_extension": ".py",
   "mimetype": "text/x-python",
   "name": "python",
   "nbconvert_exporter": "python",
   "pygments_lexer": "ipython3",
   "version": "3.6.3"
  },
  "vscode": {
   "interpreter": {
    "hash": "6da71c0dc653241b6b5e230b82f8d2fd8bc3c1d30c72bb2adee2a0a816b6544f"
   }
  }
 },
 "nbformat": 4,
 "nbformat_minor": 2
}
